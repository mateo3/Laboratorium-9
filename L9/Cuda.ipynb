{
  "nbformat": 4,
  "nbformat_minor": 0,
  "metadata": {
    "colab": {
      "name": "Cuda.ipynb",
      "provenance": [],
      "collapsed_sections": []
    },
    "kernelspec": {
      "name": "python3",
      "display_name": "Python 3"
    },
    "language_info": {
      "name": "python"
    },
    "accelerator": "GPU"
  },
  "cells": [
    {
      "cell_type": "code",
      "execution_count": null,
      "metadata": {
        "id": "EFRRg9pHj8IT"
      },
      "outputs": [],
      "source": [
        "!apt-get --purge remove cuda nvidia* libnvidia-*\n",
        "!dpkg -l | grep cuda- | awk '{print $2}' | xargs -n1 dpkg --purge\n",
        "!apt-get remove cuda-*\n",
        "!apt autoremove\n",
        "!apt-get update\n",
        "!wget https://developer.nvidia.com/compute/cuda/9.2/Prod/local_installers/cuda-repo-ubuntu1604-9-2-local_9.2.88-1_amd64 -O cuda-repo-ubuntu1604-9-2-local_9.2.88-1_amd64.deb\n",
        "!dpkg -i cuda-repo-ubuntu1604-9-2-local_9.2.88-1_amd64.deb\n",
        "!apt-key add /var/cuda-repo-9-2-local/7fa2af80.pub\n",
        "!apt-get update\n",
        "!apt-get install cuda-9.2\n",
        "!nvcc --version\n",
        "!pip install git+git://github.com/andreinechaev/nvcc4jupyter.git\n",
        "%load_ext nvcc_plugin"
      ]
    },
    {
      "cell_type": "code",
      "source": [
        "%%cu\n",
        "#include <stdio.h>\n",
        "#define N 1024\n",
        "  void add(int *a, int *b, int *c) {\n",
        "  int tid = 0; \n",
        "  while (tid < N) {\n",
        "    c[tid] = a[tid] + b[tid];\n",
        "    tid += 1;\n",
        "  }\n",
        "  }\n",
        "int main() {\n",
        "  cudaEvent_t start, stop;\n",
        "  cudaEventCreate(&start) ;\n",
        "  cudaEventCreate(&stop) ;\n",
        "  cudaEventRecord(start, 0) ;\n",
        "  int a[N], b[N], c[N];\n",
        "  for (int i=0; i<N; i++) {\n",
        "    a[i] = i;\n",
        "    b[i] = i * i;\n",
        "  }\n",
        "  add( a, b, c );\n",
        "  for (int i=0; i<N; i++) {\n",
        "  printf(\"%d + %d = %d\\n\", a[i], b[i], c[i] );\n",
        "  }\n",
        "  cudaEventRecord( stop, 0 );\n",
        "  cudaEventSynchronize( stop );\n",
        "  float czas;\n",
        "  cudaEventElapsedTime( &czas, start, stop );\n",
        "  printf( \"Czas wykonania %3.2f ms\\n\", czas );\n",
        "  cudaEventDestroy(start);\n",
        "  cudaEventDestroy(stop);\n",
        "  return 0;\n",
        "  }"
      ],
      "metadata": {
        "id": "40ArgZ2Bl_jf"
      },
      "execution_count": null,
      "outputs": []
    },
    {
      "cell_type": "code",
      "source": [
        "%%cu\n",
        "#include <stdio.h>\n",
        "#define N 1024\n",
        "__global__ void add(int *a, int *b, int *c) {\n",
        "  int tid = blockIdx.x;\n",
        "  if (tid < N)\n",
        "  c[tid] = a[tid] + b[tid];\n",
        "}\n",
        "\n",
        "int main() {\n",
        "  cudaEvent_t start, stop;\n",
        "  cudaEventCreate(&start) ;\n",
        "  cudaEventCreate( &stop ) ;\n",
        "  cudaEventRecord( start, 0 ) ;\n",
        "  int a[N], b[N], c[N];\n",
        "  int *dev_a, *dev_b, *dev_c;\n",
        "  cudaMalloc( (void**)&dev_a, N * sizeof(int) );\n",
        "  cudaMalloc( (void**)&dev_b, N * sizeof(int) );\n",
        "  cudaMalloc( (void**)&dev_c, N * sizeof(int) );\n",
        "  for (int i=0; i<N; i++) {\n",
        "  a[i] = -i;\n",
        "  b[i] = i * i;\n",
        "  }\n",
        "  cudaMemcpy( dev_a, a, N * sizeof(int), cudaMemcpyHostToDevice );\n",
        "  cudaMemcpy( dev_b, b, N * sizeof(int), cudaMemcpyHostToDevice );\n",
        "  add<<<N,1024>>>( dev_a, dev_b, dev_c );\n",
        "  cudaMemcpy( c, dev_c, N * sizeof(int), cudaMemcpyDeviceToHost );\n",
        "  for (int i=0; i<N; i++) {\n",
        "    printf( \"%d + %d = %d\\n\", a[i], b[i], c[i] );\n",
        "  }\n",
        "  cudaEventRecord( stop, 0 );\n",
        "  cudaEventSynchronize( stop );\n",
        "  float czas;\n",
        "  cudaEventElapsedTime( &czas, start, stop );\n",
        "  printf( \"Czas wykonania %3.2f ms\\n\", czas );\n",
        "  cudaEventDestroy( start );\n",
        "  cudaEventDestroy( stop );\n",
        "  cudaFree( dev_a );\n",
        "  cudaFree( dev_b );\n",
        "  cudaFree( dev_c );\n",
        "  return 0;\n",
        "}"
      ],
      "metadata": {
        "id": "1RIVmLEjnbnV"
      },
      "execution_count": null,
      "outputs": []
    },
    {
      "cell_type": "markdown",
      "source": [
        "Uzsykane wyniki(ms):\n",
        "CPU: 0.93, 0.76, 0.82, 0.63, 0.74, 0.71, 0.83, 0.74, 0.74, 0.81\n",
        "\n",
        "GPU: 0.41, 0.52, 0.43, 0.46, 0.42, 0.48, 0.42, 0.45, 0.42, 0.43\n",
        "\n",
        "Średnie przyspieszenie: 1,75\n"
      ],
      "metadata": {
        "id": "q_DTDjdWozBs"
      }
    }
  ]
}